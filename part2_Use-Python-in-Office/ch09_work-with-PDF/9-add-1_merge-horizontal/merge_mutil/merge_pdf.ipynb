{
 "cells": [
  {
   "cell_type": "code",
   "execution_count": null,
   "metadata": {},
   "outputs": [],
   "source": [
    "from PyPDF3 import PdfFileReader, PdfFileWriter\n",
    "from PyPDF3.pdf import PageObject\n",
    "\n",
    "pdf_filenames = [\"./a.pdf\", \"./b.pdf\"]\n",
    "\n",
    "reader1 = PdfFileReader(open(pdf_filenames[0], \"rb\"), strict=False)\n",
    "reader2 = PdfFileReader(open(pdf_filenames[1], \"rb\"), strict=False)\n",
    "\n",
    "writer = PdfFileWriter()\n",
    "\n",
    "page1 = reader1.getPage(0)\n",
    "page2 = reader2.getPage(0)\n",
    "\n",
    "for i in range(len(reader1.pages)):\n",
    "\n",
    "    page1 = reader1.getPage(i)\n",
    "    page2 = reader2.getPage(i)\n",
    "\n",
    "    total_width = page1.mediaBox.upperRight[0] + page2.mediaBox.upperRight[0]\n",
    "    total_height = max([page1.mediaBox.upperRight[1], page2.mediaBox.upperRight[1]])\n",
    "    # print(total_width, total_height)\n",
    "\n",
    "    new_page = writer.insertBlankPage(total_width, total_height, i)\n",
    "\n",
    "    new_page.mergePage(page1)\n",
    "    new_page.mergeTranslatedPage(page2, page1.mediaBox.upperRight[0], 0)\n",
    "\n",
    "    # writer.addPage(new_page)\n",
    "\n",
    "writer.write(open(\"./new.pdf\", \"wb\"))"
   ]
  },
  {
   "cell_type": "code",
   "execution_count": 23,
   "metadata": {},
   "outputs": [
    {
     "ename": "RuntimeError",
     "evalue": "cannot insert page beyond end of page tree",
     "output_type": "error",
     "traceback": [
      "\u001b[1;31m---------------------------------------------------------------------------\u001b[0m",
      "\u001b[1;31mRuntimeError\u001b[0m                              Traceback (most recent call last)",
      "Cell \u001b[1;32mIn [23], line 26\u001b[0m\n\u001b[0;32m     23\u001b[0m     merge\u001b[38;5;241m.\u001b[39msave(output_file)\n\u001b[0;32m     24\u001b[0m     merge\u001b[38;5;241m.\u001b[39mclose()\n\u001b[1;32m---> 26\u001b[0m \u001b[43mmerge_pdfs\u001b[49m\u001b[43m(\u001b[49m\u001b[38;5;124;43m'\u001b[39;49m\u001b[38;5;124;43mmerged_file.pdf\u001b[39;49m\u001b[38;5;124;43m'\u001b[39;49m\u001b[43m)\u001b[49m\n",
      "Cell \u001b[1;32mIn [23], line 18\u001b[0m, in \u001b[0;36mmerge_pdfs\u001b[1;34m(output_file)\u001b[0m\n\u001b[0;32m     15\u001b[0m width \u001b[38;5;241m=\u001b[39m \u001b[38;5;28mint\u001b[39m(page1\u001b[38;5;241m.\u001b[39mrect\u001b[38;5;241m.\u001b[39mwidth \u001b[38;5;241m+\u001b[39m page2\u001b[38;5;241m.\u001b[39mrect\u001b[38;5;241m.\u001b[39mwidth) \n\u001b[0;32m     16\u001b[0m height \u001b[38;5;241m=\u001b[39m \u001b[38;5;28mint\u001b[39m(\u001b[38;5;28mmax\u001b[39m(page1\u001b[38;5;241m.\u001b[39mrect\u001b[38;5;241m.\u001b[39mheight, page2\u001b[38;5;241m.\u001b[39mrect\u001b[38;5;241m.\u001b[39mheight)) \n\u001b[1;32m---> 18\u001b[0m blank_page \u001b[38;5;241m=\u001b[39m \u001b[43mmerge\u001b[49m\u001b[38;5;241;43m.\u001b[39;49m\u001b[43mnew_page\u001b[49m\u001b[43m(\u001b[49m\u001b[43mwidth\u001b[49m\u001b[43m,\u001b[49m\u001b[43m \u001b[49m\u001b[43mheight\u001b[49m\u001b[43m)\u001b[49m\n\u001b[0;32m     20\u001b[0m blank_page\u001b[38;5;241m.\u001b[39mshow_pdf_page((\u001b[38;5;241m0\u001b[39m, \u001b[38;5;241m0\u001b[39m, \u001b[38;5;28mint\u001b[39m(page1\u001b[38;5;241m.\u001b[39mrect\u001b[38;5;241m.\u001b[39mwidth), \u001b[38;5;28mint\u001b[39m(page1\u001b[38;5;241m.\u001b[39mrect\u001b[38;5;241m.\u001b[39mheight)), pdf1, i,keep_proportion\u001b[38;5;241m=\u001b[39m\u001b[38;5;28;01mTrue\u001b[39;00m, rotate\u001b[38;5;241m=\u001b[39m\u001b[38;5;241m90\u001b[39m, clip\u001b[38;5;241m=\u001b[39m\u001b[38;5;28;01mTrue\u001b[39;00m )\n\u001b[0;32m     21\u001b[0m blank_page\u001b[38;5;241m.\u001b[39mshow_pdf_page((\u001b[38;5;28mint\u001b[39m(page1\u001b[38;5;241m.\u001b[39mrect\u001b[38;5;241m.\u001b[39mwidth), \u001b[38;5;241m0\u001b[39m, width, \u001b[38;5;28mint\u001b[39m(page2\u001b[38;5;241m.\u001b[39mrect\u001b[38;5;241m.\u001b[39mheight)), pdf2, i, keep_proportion\u001b[38;5;241m=\u001b[39m\u001b[38;5;28;01mTrue\u001b[39;00m, rotate\u001b[38;5;241m=\u001b[39m\u001b[38;5;241m90\u001b[39m, clip\u001b[38;5;241m=\u001b[39m\u001b[38;5;28;01mTrue\u001b[39;00m )\n",
      "File \u001b[1;32mc:\\Users\\yun19\\AppData\\Local\\Programs\\Python\\Python310\\lib\\site-packages\\fitz\\utils.py:1854\u001b[0m, in \u001b[0;36mnew_page\u001b[1;34m(doc, pno, width, height)\u001b[0m\n\u001b[0;32m   1839\u001b[0m \u001b[38;5;28;01mdef\u001b[39;00m \u001b[38;5;21mnew_page\u001b[39m(\n\u001b[0;32m   1840\u001b[0m     doc: Document,\n\u001b[0;32m   1841\u001b[0m     pno: \u001b[38;5;28mint\u001b[39m \u001b[38;5;241m=\u001b[39m \u001b[38;5;241m-\u001b[39m\u001b[38;5;241m1\u001b[39m,\n\u001b[0;32m   1842\u001b[0m     width: \u001b[38;5;28mfloat\u001b[39m \u001b[38;5;241m=\u001b[39m \u001b[38;5;241m595\u001b[39m,\n\u001b[0;32m   1843\u001b[0m     height: \u001b[38;5;28mfloat\u001b[39m \u001b[38;5;241m=\u001b[39m \u001b[38;5;241m842\u001b[39m,\n\u001b[0;32m   1844\u001b[0m ) \u001b[38;5;241m-\u001b[39m\u001b[38;5;241m>\u001b[39m Page:\n\u001b[0;32m   1845\u001b[0m     \u001b[38;5;124;03m\"\"\"Create and return a new page object.\u001b[39;00m\n\u001b[0;32m   1846\u001b[0m \n\u001b[0;32m   1847\u001b[0m \u001b[38;5;124;03m    Args:\u001b[39;00m\n\u001b[1;32m   (...)\u001b[0m\n\u001b[0;32m   1852\u001b[0m \u001b[38;5;124;03m        A Page object.\u001b[39;00m\n\u001b[0;32m   1853\u001b[0m \u001b[38;5;124;03m    \"\"\"\u001b[39;00m\n\u001b[1;32m-> 1854\u001b[0m     \u001b[43mdoc\u001b[49m\u001b[38;5;241;43m.\u001b[39;49m\u001b[43m_newPage\u001b[49m\u001b[43m(\u001b[49m\u001b[43mpno\u001b[49m\u001b[43m,\u001b[49m\u001b[43m \u001b[49m\u001b[43mwidth\u001b[49m\u001b[38;5;241;43m=\u001b[39;49m\u001b[43mwidth\u001b[49m\u001b[43m,\u001b[49m\u001b[43m \u001b[49m\u001b[43mheight\u001b[49m\u001b[38;5;241;43m=\u001b[39;49m\u001b[43mheight\u001b[49m\u001b[43m)\u001b[49m\n\u001b[0;32m   1855\u001b[0m     \u001b[38;5;28;01mreturn\u001b[39;00m doc[pno]\n",
      "File \u001b[1;32mc:\\Users\\yun19\\AppData\\Local\\Programs\\Python\\Python310\\lib\\site-packages\\fitz\\fitz.py:4821\u001b[0m, in \u001b[0;36mDocument._newPage\u001b[1;34m(self, pno, width, height)\u001b[0m\n\u001b[0;32m   4818\u001b[0m \u001b[38;5;28;01mif\u001b[39;00m \u001b[38;5;28mself\u001b[39m\u001b[38;5;241m.\u001b[39mis_closed \u001b[38;5;129;01mor\u001b[39;00m \u001b[38;5;28mself\u001b[39m\u001b[38;5;241m.\u001b[39mis_encrypted:\n\u001b[0;32m   4819\u001b[0m     \u001b[38;5;28;01mraise\u001b[39;00m \u001b[38;5;167;01mValueError\u001b[39;00m(\u001b[38;5;124m\"\u001b[39m\u001b[38;5;124mdocument closed or encrypted\u001b[39m\u001b[38;5;124m\"\u001b[39m)\n\u001b[1;32m-> 4821\u001b[0m val \u001b[38;5;241m=\u001b[39m \u001b[43m_fitz\u001b[49m\u001b[38;5;241;43m.\u001b[39;49m\u001b[43mDocument__newPage\u001b[49m\u001b[43m(\u001b[49m\u001b[38;5;28;43mself\u001b[39;49m\u001b[43m,\u001b[49m\u001b[43m \u001b[49m\u001b[43mpno\u001b[49m\u001b[43m,\u001b[49m\u001b[43m \u001b[49m\u001b[43mwidth\u001b[49m\u001b[43m,\u001b[49m\u001b[43m \u001b[49m\u001b[43mheight\u001b[49m\u001b[43m)\u001b[49m\n\u001b[0;32m   4822\u001b[0m \u001b[38;5;28mself\u001b[39m\u001b[38;5;241m.\u001b[39m_reset_page_refs()\n\u001b[0;32m   4824\u001b[0m \u001b[38;5;28;01mreturn\u001b[39;00m val\n",
      "\u001b[1;31mRuntimeError\u001b[0m: cannot insert page beyond end of page tree"
     ]
    }
   ],
   "source": [
    "import fitz \n",
    "\n",
    "def merge_pdfs(output_file):\n",
    "    merge = fitz.open()\n",
    "\n",
    "    pdf1 = fitz.open('a.pdf') \n",
    "    pdf2 = fitz.open('b.pdf') \n",
    "\n",
    "    num = max(pdf1.page_count, pdf2.page_count) \n",
    "    # print(num)\n",
    "    for i in range(num):\n",
    "        page1 = pdf1[i] \n",
    "        page2 = pdf2[i] \n",
    "\n",
    "        width = int(page1.rect.width + page2.rect.width) \n",
    "        height = int(max(page1.rect.height, page2.rect.height)) \n",
    "\n",
    "        blank_page = merge.new_page(width, height)\n",
    "\n",
    "        blank_page.show_pdf_page((0, 0, int(page1.rect.width), int(page1.rect.height)), pdf1, i,keep_proportion=True, rotate=90 )\n",
    "        blank_page.show_pdf_page((int(page1.rect.width), 0, width, int(page2.rect.height)), pdf2, i, keep_proportion=True, rotate=90 )\n",
    "\n",
    "    merge.save(output_file)\n",
    "    merge.close()\n",
    "\n",
    "merge_pdfs('merged_file.pdf')"
   ]
  },
  {
   "cell_type": "code",
   "execution_count": null,
   "metadata": {},
   "outputs": [],
   "source": []
  }
 ],
 "metadata": {
  "kernelspec": {
   "display_name": "Python 3",
   "language": "python",
   "name": "python3"
  },
  "language_info": {
   "codemirror_mode": {
    "name": "ipython",
    "version": 3
   },
   "file_extension": ".py",
   "mimetype": "text/x-python",
   "name": "python",
   "nbconvert_exporter": "python",
   "pygments_lexer": "ipython3",
   "version": "3.10.7"
  }
 },
 "nbformat": 4,
 "nbformat_minor": 2
}
